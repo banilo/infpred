{
 "cells": [
  {
   "cell_type": "markdown",
   "metadata": {},
   "source": [
    "# Explore Simulations on Prediction VS Inference\n",
    "From Bzdok, Engemann, Grisel, Varoquaux & Thirion (bioarxiv 2018). Prediction and inference diverge in biomedicine: Simulations and real-world data."
   ]
  },
  {
   "cell_type": "code",
   "execution_count": 1,
   "metadata": {},
   "outputs": [],
   "source": [
    "from ipywidgets import interact\n",
    "import pandas as pd\n",
    "import numpy as np\n",
    "import infpred_plotter"
   ]
  },
  {
   "cell_type": "code",
   "execution_count": 2,
   "metadata": {
    "scrolled": true
   },
   "outputs": [
    {
     "data": {
      "application/vnd.jupyter.widget-view+json": {
       "model_id": "61af798d2c7947dc96f09bd389e39792"
      }
     },
     "metadata": {},
     "output_type": "display_data"
    }
   ],
   "source": [
    "%matplotlib inline\n",
    "@interact(n_simus=(10, 500, 10), model_violation=['all', 'abs',\n",
    "          'log', 'exp', 'sqrt', '1/x', 'x^2', 'x^3', 'x^4', 'x^5'],\n",
    "          n_samples=infpred_plotter.n_samples, n_feat_relevant=(1, 46, 3),\n",
    "          pval_summary=['min', 'mean'])\n",
    "def plot(n_simus=50, model_violation='all', n_samples='all', n_feat_relevant=40, pval_summary='min'):\n",
    "    df = pd.read_pickle('./simulations_summary.gzip')\n",
    "    infpred_plotter.plot_simus(df, n_simus, model_violation, n_samples, n_feat_relevant, pval_summary)"
   ]
  }
 ],
 "metadata": {
  "kernelspec": {
   "display_name": "Python 3",
   "language": "python",
   "name": "python3"
  },
  "language_info": {
   "codemirror_mode": {
    "name": "ipython",
    "version": 3
   },
   "file_extension": ".py",
   "mimetype": "text/x-python",
   "name": "python",
   "nbconvert_exporter": "python",
   "pygments_lexer": "ipython3",
   "version": "3.5.3"
  }
 },
 "nbformat": 4,
 "nbformat_minor": 2
}
