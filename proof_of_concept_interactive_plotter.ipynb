{
 "cells": [
  {
   "cell_type": "code",
   "execution_count": 1,
   "metadata": {},
   "outputs": [
    {
     "ename": "ImportError",
     "evalue": "No module named hex",
     "output_type": "error",
     "traceback": [
      "\u001b[0;31m---------------------------------------------------------------------------\u001b[0m",
      "\u001b[0;31mImportError\u001b[0m                               Traceback (most recent call last)",
      "\u001b[0;32m<ipython-input-1-b4b1259faabd>\u001b[0m in \u001b[0;36m<module>\u001b[0;34m()\u001b[0m\n\u001b[1;32m      9\u001b[0m \u001b[0;34m\u001b[0m\u001b[0m\n\u001b[1;32m     10\u001b[0m \u001b[0;32mfrom\u001b[0m \u001b[0mbokeh\u001b[0m\u001b[0;34m.\u001b[0m\u001b[0mtransform\u001b[0m \u001b[0;32mimport\u001b[0m \u001b[0mlog_cmap\u001b[0m\u001b[0;34m,\u001b[0m \u001b[0mlinear_cmap\u001b[0m\u001b[0;34m\u001b[0m\u001b[0m\n\u001b[0;32m---> 11\u001b[0;31m \u001b[0;32mfrom\u001b[0m \u001b[0mbokeh\u001b[0m\u001b[0;34m.\u001b[0m\u001b[0mutil\u001b[0m\u001b[0;34m.\u001b[0m\u001b[0mhex\u001b[0m \u001b[0;32mimport\u001b[0m \u001b[0mhexbin\u001b[0m\u001b[0;34m\u001b[0m\u001b[0m\n\u001b[0m\u001b[1;32m     12\u001b[0m \u001b[0;32mfrom\u001b[0m \u001b[0mbokeh\u001b[0m\u001b[0;34m.\u001b[0m\u001b[0mmodels\u001b[0m \u001b[0;32mimport\u001b[0m \u001b[0mRange1d\u001b[0m\u001b[0;34m\u001b[0m\u001b[0m\n\u001b[1;32m     13\u001b[0m \u001b[0moutput_notebook\u001b[0m\u001b[0;34m(\u001b[0m\u001b[0;34m)\u001b[0m\u001b[0;34m\u001b[0m\u001b[0m\n",
      "\u001b[0;31mImportError\u001b[0m: No module named hex"
     ]
    }
   ],
   "source": [
    "from ipywidgets import interact\n",
    "import numpy as np\n",
    "import pandas as pd\n",
    "\n",
    "from bokeh.models import HoverTool\n",
    "\n",
    "from bokeh.io import push_notebook, show, output_notebook\n",
    "from bokeh.plotting import figure\n",
    "\n",
    "from bokeh.transform import log_cmap, linear_cmap\n",
    "from bokeh.util.hex import hexbin\n",
    "from bokeh.models import Range1d\n",
    "output_notebook()"
   ]
  },
  {
   "cell_type": "code",
   "execution_count": 3,
   "metadata": {
    "collapsed": true
   },
   "outputs": [],
   "source": [
    "df = pd.read_pickle('./simulations.gzip')\n",
    "coefs = np.array([c for c in df['coefs'].values])\n",
    "scores_debiased = np.array([c for c in df['scores_debiased'].values])\n",
    "scores = np.array([c for c in df['scores'].values])\n",
    "pvalues = np.array([c for c in df['lr_pvalues'].values])"
   ]
  },
  {
   "cell_type": "code",
   "execution_count": 4,
   "metadata": {
    "collapsed": true
   },
   "outputs": [],
   "source": [
    "def update(model_violation='all',\n",
    "           n_samples='all',\n",
    "           seed='all',\n",
    "           n_feat_relevant='all',\n",
    "           score_summary='max',\n",
    "           pval_summary='min',\n",
    "           scoring='r2_debiased'):\n",
    "    \n",
    "    filter1 = np.ones(len(df), dtype=bool)\n",
    "    if model_violation != 'all':\n",
    "        filter1 = np.logical_and(\n",
    "            filter1, (df.pathology == model_violation).values)\n",
    "    if n_samples != 'all':\n",
    "        unique = df.n_samples.unique()\n",
    "        n_samples_ = unique[np.abs(unique - n_samples).argmin()]\n",
    "        print(n_samples_)\n",
    "        filter1 = np.logical_and(\n",
    "            filter1, (df.n_samples == n_samples_).values)\n",
    "    if seed != 'all':\n",
    "        filter1 = np.logical_and(\n",
    "            filter1, (df.seed == seed).values)\n",
    "    if n_feat_relevant != 'all':\n",
    "        filter1 = np.logical_and(\n",
    "            filter1, (df.n_feat_relevant == n_feat_relevant).values)\n",
    "\n",
    "    funcs = {'min': np.min, 'max': np.max, 'mean': np.mean}\n",
    "    score_summary_ = funcs[score_summary]\n",
    "    pval_summary_ = funcs[pval_summary]\n",
    "\n",
    "    x = -np.log10(pval_summary_(pvalues, 1))\n",
    "\n",
    "    scores_ = {'r2': scores, 'r2_debiased': scores_debiased}[scoring]\n",
    "    \n",
    "    y = np.max([score_summary_(scores_, 1), \n",
    "                np.zeros(len(df))], 0)\n",
    "\n",
    "    scat.data_source.data['x'] = x[filter1]\n",
    "    scat.data_source.data['y'] = y[filter1]\n",
    "    push_notebook()"
   ]
  },
  {
   "cell_type": "code",
   "execution_count": 7,
   "metadata": {
    "scrolled": true
   },
   "outputs": [
    {
     "data": {
      "text/html": [
       "\n",
       "<div class=\"bk-root\">\n",
       "    <div class=\"bk-plotdiv\" id=\"1d3f3e37-de59-43b0-932a-ea7dac80e792\"></div>\n",
       "</div>"
      ]
     },
     "metadata": {},
     "output_type": "display_data"
    },
    {
     "name": "stderr",
     "output_type": "stream",
     "text": [
      "IOPub data rate exceeded.\n",
      "The notebook server will temporarily stop sending output\n",
      "to the client in order to avoid crashing it.\n",
      "To change this limit, set the config variable\n",
      "`--NotebookApp.iopub_data_rate_limit`.\n"
     ]
    },
    {
     "data": {
      "text/html": [
       "<p><code>&lt;Bokeh Notebook handle for <strong>In[7]</strong>&gt;</code></p>"
      ],
      "text/plain": [
       "<bokeh.io.notebook.CommsHandle at 0x1c605b048>"
      ]
     },
     "execution_count": 7,
     "metadata": {},
     "output_type": "execute_result"
    }
   ],
   "source": [
    "x = -np.log10(pvalues.min(1))\n",
    "y = np.max([scores_debiased.max(-1), np.zeros(len(df))], 0)\n",
    "\n",
    "p = figure(title=\"Title\",\n",
    "           match_aspect=True,\n",
    "           tools=\"wheel_zoom,reset\",\n",
    "           y_range=Range1d(0, 1),\n",
    "           x_range=Range1d(x.min(), x.max()))\n",
    "\n",
    "color = np.array(['blue'] * len(df))\n",
    "scat = p.scatter(x, y, fill_color=color, color=color, alpha=0.05)\n",
    "show(p, notebook_handle=True)"
   ]
  },
  {
   "cell_type": "code",
   "execution_count": 6,
   "metadata": {},
   "outputs": [
    {
     "data": {
      "application/vnd.jupyter.widget-view+json": {
       "model_id": "0192ce89f3d748178c01968e2ca31f49"
      }
     },
     "metadata": {},
     "output_type": "display_data"
    },
    {
     "data": {
      "text/plain": [
       "<function __main__.update>"
      ]
     },
     "execution_count": 6,
     "metadata": {},
     "output_type": "execute_result"
    }
   ],
   "source": [
    "interact(update, model_violation=['all', None, 'abs', 'log', 'exp', 'sqrt', '1/x', 'x^2', 'x^3', 'x^4', 'x^5'], n_samples=(100, 1000, 100), seed=['all', 14, 42, 86], n_feat_relevant=(1, 40, 3), score_summary=['mean', 'max'], pval_summary=['min', 'mean'], scoring=['r2', 'r2_debiased'])"
   ]
  }
 ],
 "metadata": {
  "kernelspec": {
   "display_name": "Python 3",
   "language": "python",
   "name": "python3"
  },
  "language_info": {
   "codemirror_mode": {
    "name": "ipython",
    "version": 3
   },
   "file_extension": ".py",
   "mimetype": "text/x-python",
   "name": "python",
   "nbconvert_exporter": "python",
   "pygments_lexer": "ipython3",
   "version": "3.5.3"
  }
 },
 "nbformat": 4,
 "nbformat_minor": 2
}
